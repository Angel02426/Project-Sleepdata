{
 "cells": [
  {
   "cell_type": "markdown",
   "id": "413360ee",
   "metadata": {},
   "source": [
    "### Sleep Health and Lifestyle Dataset   \n"
   ]
  },
  {
   "cell_type": "markdown",
   "id": "2f2adcad",
   "metadata": {},
   "source": [
    "The sleep Health and Lifestyle dataset contains 374 rows and 13 columns, covering a wide range of variables related to sleep and daily habits. It includes details such as gender, age, physical activity, stress level, BMI category, blood preassure, heart rate, daily steps, and the presence or abscence of sleep disorders."
   ]
  },
  {
   "cell_type": "markdown",
   "id": "8de311ef",
   "metadata": {},
   "source": [
    "We have the data of 374 people and there lifestyle and were going to abserve who sleeps the best and who sleeps the worst."
   ]
  },
  {
   "cell_type": "markdown",
   "id": "3dc6dd83",
   "metadata": {},
   "source": [
    "## Below this is the data of the first 5 people just to see if its working prperly.(test run)"
   ]
  },
  {
   "cell_type": "code",
   "execution_count": 5,
   "id": "1c945a35",
   "metadata": {},
   "outputs": [
    {
     "data": {
      "text/html": [
       "<div>\n",
       "<style scoped>\n",
       "    .dataframe tbody tr th:only-of-type {\n",
       "        vertical-align: middle;\n",
       "    }\n",
       "\n",
       "    .dataframe tbody tr th {\n",
       "        vertical-align: top;\n",
       "    }\n",
       "\n",
       "    .dataframe thead th {\n",
       "        text-align: right;\n",
       "    }\n",
       "</style>\n",
       "<table border=\"1\" class=\"dataframe\">\n",
       "  <thead>\n",
       "    <tr style=\"text-align: right;\">\n",
       "      <th></th>\n",
       "      <th>Person ID</th>\n",
       "      <th>Gender</th>\n",
       "      <th>Age</th>\n",
       "      <th>Occupation</th>\n",
       "      <th>Sleep Duration</th>\n",
       "      <th>Quality of Sleep</th>\n",
       "      <th>Physical Activity Level</th>\n",
       "      <th>Stress Level</th>\n",
       "      <th>BMI Category</th>\n",
       "      <th>Blood Pressure</th>\n",
       "      <th>Heart Rate</th>\n",
       "      <th>Daily Steps</th>\n",
       "      <th>Sleep Disorder</th>\n",
       "    </tr>\n",
       "  </thead>\n",
       "  <tbody>\n",
       "    <tr>\n",
       "      <th>0</th>\n",
       "      <td>1</td>\n",
       "      <td>Male</td>\n",
       "      <td>27</td>\n",
       "      <td>Software Engineer</td>\n",
       "      <td>6.1</td>\n",
       "      <td>6</td>\n",
       "      <td>42</td>\n",
       "      <td>6</td>\n",
       "      <td>Overweight</td>\n",
       "      <td>126/83</td>\n",
       "      <td>77</td>\n",
       "      <td>4200</td>\n",
       "      <td>NaN</td>\n",
       "    </tr>\n",
       "    <tr>\n",
       "      <th>1</th>\n",
       "      <td>2</td>\n",
       "      <td>Male</td>\n",
       "      <td>28</td>\n",
       "      <td>Doctor</td>\n",
       "      <td>6.2</td>\n",
       "      <td>6</td>\n",
       "      <td>60</td>\n",
       "      <td>8</td>\n",
       "      <td>Normal</td>\n",
       "      <td>125/80</td>\n",
       "      <td>75</td>\n",
       "      <td>10000</td>\n",
       "      <td>NaN</td>\n",
       "    </tr>\n",
       "    <tr>\n",
       "      <th>2</th>\n",
       "      <td>3</td>\n",
       "      <td>Male</td>\n",
       "      <td>28</td>\n",
       "      <td>Doctor</td>\n",
       "      <td>6.2</td>\n",
       "      <td>6</td>\n",
       "      <td>60</td>\n",
       "      <td>8</td>\n",
       "      <td>Normal</td>\n",
       "      <td>125/80</td>\n",
       "      <td>75</td>\n",
       "      <td>10000</td>\n",
       "      <td>NaN</td>\n",
       "    </tr>\n",
       "    <tr>\n",
       "      <th>3</th>\n",
       "      <td>4</td>\n",
       "      <td>Male</td>\n",
       "      <td>28</td>\n",
       "      <td>Sales Representative</td>\n",
       "      <td>5.9</td>\n",
       "      <td>4</td>\n",
       "      <td>30</td>\n",
       "      <td>8</td>\n",
       "      <td>Obese</td>\n",
       "      <td>140/90</td>\n",
       "      <td>85</td>\n",
       "      <td>3000</td>\n",
       "      <td>Sleep Apnea</td>\n",
       "    </tr>\n",
       "    <tr>\n",
       "      <th>4</th>\n",
       "      <td>5</td>\n",
       "      <td>Male</td>\n",
       "      <td>28</td>\n",
       "      <td>Sales Representative</td>\n",
       "      <td>5.9</td>\n",
       "      <td>4</td>\n",
       "      <td>30</td>\n",
       "      <td>8</td>\n",
       "      <td>Obese</td>\n",
       "      <td>140/90</td>\n",
       "      <td>85</td>\n",
       "      <td>3000</td>\n",
       "      <td>Sleep Apnea</td>\n",
       "    </tr>\n",
       "  </tbody>\n",
       "</table>\n",
       "</div>"
      ],
      "text/plain": [
       "   Person ID Gender  Age            Occupation  Sleep Duration  \\\n",
       "0          1   Male   27     Software Engineer             6.1   \n",
       "1          2   Male   28                Doctor             6.2   \n",
       "2          3   Male   28                Doctor             6.2   \n",
       "3          4   Male   28  Sales Representative             5.9   \n",
       "4          5   Male   28  Sales Representative             5.9   \n",
       "\n",
       "   Quality of Sleep  Physical Activity Level  Stress Level BMI Category  \\\n",
       "0                 6                       42             6   Overweight   \n",
       "1                 6                       60             8       Normal   \n",
       "2                 6                       60             8       Normal   \n",
       "3                 4                       30             8        Obese   \n",
       "4                 4                       30             8        Obese   \n",
       "\n",
       "  Blood Pressure  Heart Rate  Daily Steps Sleep Disorder  \n",
       "0         126/83          77         4200            NaN  \n",
       "1         125/80          75        10000            NaN  \n",
       "2         125/80          75        10000            NaN  \n",
       "3         140/90          85         3000    Sleep Apnea  \n",
       "4         140/90          85         3000    Sleep Apnea  "
      ]
     },
     "execution_count": 5,
     "metadata": {},
     "output_type": "execute_result"
    }
   ],
   "source": [
    "import pandas as pd \n",
    "import matplotlib.pyplot as plt\n",
    "df = pd.read_csv(\"data/Sleep_health_and_lifestyle_dataset.csv\")\n",
    "df.head()"
   ]
  },
  {
   "cell_type": "markdown",
   "id": "e36bc4f8",
   "metadata": {},
   "source": [
    "## Dataset Information"
   ]
  },
  {
   "cell_type": "code",
   "execution_count": 8,
   "id": "642a221d",
   "metadata": {},
   "outputs": [
    {
     "data": {
      "text/plain": [
       "Person ID                    int64\n",
       "Gender                      object\n",
       "Age                          int64\n",
       "Occupation                  object\n",
       "Sleep Duration             float64\n",
       "Quality of Sleep             int64\n",
       "Physical Activity Level      int64\n",
       "Stress Level                 int64\n",
       "BMI Category                object\n",
       "Blood Pressure              object\n",
       "Heart Rate                   int64\n",
       "Daily Steps                  int64\n",
       "Sleep Disorder              object\n",
       "dtype: object"
      ]
     },
     "execution_count": 8,
     "metadata": {},
     "output_type": "execute_result"
    }
   ],
   "source": [
    "df.dtypes\n"
   ]
  },
  {
   "cell_type": "markdown",
   "id": "1eed9a65",
   "metadata": {},
   "source": [
    "## Does Occupation affect how much sleep you get?"
   ]
  },
  {
   "cell_type": "markdown",
   "id": "16b248cd",
   "metadata": {},
   "source": [
    "First were going to see if occupation has anything to do in how much you get to sleep. We're going to see which occupation sleeps the most and which gets the lest sleep "
   ]
  },
  {
   "cell_type": "markdown",
   "id": "13c9e49a",
   "metadata": {},
   "source": [
    "AS you can see below if we go based of occupation an Engeneer sleeps the most with an average of 7.9 hours a day and the quality of sleep is an 8 out of 10. The occupation with the least amount of sleep is a sales representative with an average of 5.9 hours of sleep, and a 4 out of 10 for quality of sleep. "
   ]
  },
  {
   "cell_type": "code",
   "execution_count": 6,
   "id": "80e6c225",
   "metadata": {},
   "outputs": [
    {
     "name": "stdout",
     "output_type": "stream",
     "text": [
      "                      Sleep Duration  Quality of Sleep\n",
      "Occupation                                            \n",
      "Engineer                    7.987302          8.412698\n",
      "Lawyer                      7.410638          7.893617\n",
      "Accountant                  7.113514          7.891892\n",
      "Nurse                       7.063014          7.369863\n",
      "Doctor                      6.970423          6.647887\n",
      "Manager                     6.900000          7.000000\n",
      "Software Engineer           6.750000          6.500000\n",
      "Teacher                     6.690000          6.975000\n",
      "Salesperson                 6.403125          6.000000\n",
      "Scientist                   6.000000          5.000000\n",
      "Sales Representative        5.900000          4.000000\n"
     ]
    }
   ],
   "source": [
    "occupation_sleep_stats = df.groupby('Occupation')[['Sleep Duration', 'Quality of Sleep']].mean().sort_values(by='Sleep Duration', ascending=False)\n",
    "print(occupation_sleep_stats)"
   ]
  },
  {
   "cell_type": "markdown",
   "id": "72624af4",
   "metadata": {},
   "source": [
    "## Below is the number of people that work in each field"
   ]
  },
  {
   "cell_type": "code",
   "execution_count": 15,
   "id": "4881cd38",
   "metadata": {},
   "outputs": [
    {
     "name": "stdout",
     "output_type": "stream",
     "text": [
      "Occupation\n",
      "Nurse                   73\n",
      "Doctor                  71\n",
      "Engineer                63\n",
      "Lawyer                  47\n",
      "Teacher                 40\n",
      "Accountant              37\n",
      "Salesperson             32\n",
      "Scientist                4\n",
      "Software Engineer        4\n",
      "Sales Representative     2\n",
      "Manager                  1\n",
      "Name: count, dtype: int64\n"
     ]
    }
   ],
   "source": [
    "occupation_counts = df['Occupation'].value_counts()\n",
    "print(occupation_counts)"
   ]
  },
  {
   "cell_type": "code",
   "execution_count": 14,
   "id": "b79aee1c",
   "metadata": {},
   "outputs": [
    {
     "data": {
      "image/png": "[encoded data removed]",
      "text/plain": [
       "<Figure size 1200x800 with 1 Axes>"
      ]
     },
     "metadata": {},
     "output_type": "display_data"
    }
   ],
   "source": [
    "# Distribution of occupation\n",
    "\n",
    "plt.figure(figsize=(12,8))\n",
    "sns.countplot(x='Occupation', data=df)\n",
    "plt.title('Distribution of occupation')\n",
    "plt.show()\n"
   ]
  },
  {
   "cell_type": "markdown",
   "id": "1c106383",
   "metadata": {},
   "source": [
    "## Does getting enough sleep affect your health?"
   ]
  },
  {
   "cell_type": "markdown",
   "id": "826215d5",
   "metadata": {},
   "source": [
    "Now we're going to see the person with the most sleep and the person that gets the least sleep and compare the data"
   ]
  },
  {
   "cell_type": "markdown",
   "id": "8acaf0ae",
   "metadata": {},
   "source": [
    "The person with the most sleep is much more healthier her BMI is normal, her heart rate is 65, and she does not have a sleep disorder. On the other hand the person with the least sleep is overweight, her heart rate is 81, and she has a sleep disorder. She is far less healthier than the person that gets the most sleep. We can conclude that if you get a good amount of sleep you're more likely to be healthier."
   ]
  },
  {
   "cell_type": "markdown",
   "id": "553455ff",
   "metadata": {},
   "source": [
    "### Person with the most amount of sleep"
   ]
  },
  {
   "cell_type": "code",
   "execution_count": 17,
   "id": "443de029",
   "metadata": {},
   "outputs": [
    {
     "name": "stdout",
     "output_type": "stream",
     "text": [
      "The row number of the person with the most sleep duration is: 298\n"
     ]
    },
    {
     "data": {
      "text/plain": [
       "Person ID                       299\n",
       "Gender                       Female\n",
       "Age                              51\n",
       "Occupation                 Engineer\n",
       "Sleep Duration                  8.5\n",
       "Quality of Sleep                  9\n",
       "Physical Activity Level          30\n",
       "Stress Level                      3\n",
       "BMI Category                 Normal\n",
       "Blood Pressure               125/80\n",
       "Heart Rate                       65\n",
       "Daily Steps                    5000\n",
       "Sleep Disorder                  NaN\n",
       "Name: 298, dtype: object"
      ]
     },
     "execution_count": 17,
     "metadata": {},
     "output_type": "execute_result"
    }
   ],
   "source": [
    "max_sleep_row = df['Sleep Duration'].idxmax()\n",
    "print(f\"The row number of the person with the most sleep duration is: {max_sleep_row}\")\n",
    "df.loc[max_sleep_row]"
   ]
  },
  {
   "cell_type": "markdown",
   "id": "623d87d7",
   "metadata": {},
   "source": [
    "### person with the least amount of sleep"
   ]
  },
  {
   "cell_type": "code",
   "execution_count": 18,
   "id": "3a813fd3",
   "metadata": {},
   "outputs": [
    {
     "name": "stdout",
     "output_type": "stream",
     "text": [
      "The row number of the person with the least sleep duration is: 80\n"
     ]
    },
    {
     "data": {
      "text/plain": [
       "Person ID                           81\n",
       "Gender                          Female\n",
       "Age                                 34\n",
       "Occupation                   Scientist\n",
       "Sleep Duration                     5.8\n",
       "Quality of Sleep                     4\n",
       "Physical Activity Level             32\n",
       "Stress Level                         8\n",
       "BMI Category                Overweight\n",
       "Blood Pressure                  131/86\n",
       "Heart Rate                          81\n",
       "Daily Steps                       5200\n",
       "Sleep Disorder             Sleep Apnea\n",
       "Name: 80, dtype: object"
      ]
     },
     "execution_count": 18,
     "metadata": {},
     "output_type": "execute_result"
    }
   ],
   "source": [
    "min_sleep_row = df['Sleep Duration'].idxmin()\n",
    "print(f\"The row number of the person with the least sleep duration is: {min_sleep_row}\")\n",
    "df.loc[min_sleep_row]"
   ]
  },
  {
   "cell_type": "markdown",
   "id": "023717ec",
   "metadata": {},
   "source": [
    "## DO people with a BMI in the normal range get more sleep than those classified as overweight?"
   ]
  },
  {
   "cell_type": "markdown",
   "id": "8b431774",
   "metadata": {},
   "source": [
    "### Below is the overweight BMI category and most people sleep in the 6 to 6.5 range. They get less sleep than the normal BMI category."
   ]
  },
  {
   "cell_type": "code",
   "execution_count": 21,
   "id": "f8898823",
   "metadata": {},
   "outputs": [
    {
     "data": {
      "image/png": "[encoded data removed]",
      "text/plain": [
       "<Figure size 1000x600 with 1 Axes>"
      ]
     },
     "metadata": {},
     "output_type": "display_data"
    }
   ],
   "source": [
    "# Filter data for \"Overweight\" BMI category\n",
    "overweight_sleep_data = df[df['BMI Category'] == 'Overweight']\n",
    "\n",
    "# Plot the sleep duration for the \"Overweight\" BMI category\n",
    "plt.figure(figsize=(10, 6))\n",
    "plt.hist(overweight_sleep_data['Sleep Duration'], bins=10, color='skyblue', edgecolor='black')\n",
    "plt.title('Sleep Duration for Overweight BMI Category')\n",
    "plt.xlabel('Sleep Duration (hours)')\n",
    "plt.ylabel('Frequency')\n",
    "plt.grid(axis='y', linestyle='--', alpha=0.7)\n",
    "plt.show()"
   ]
  },
  {
   "cell_type": "markdown",
   "id": "cb20e9ec",
   "metadata": {},
   "source": [
    "### Below is the Normal BMI category and the range is 7-8 hours. With this informatin we can conclude that the Normal BMI category get more sleep."
   ]
  },
  {
   "cell_type": "code",
   "execution_count": 22,
   "id": "a2960e8b",
   "metadata": {},
   "outputs": [
    {
     "data": {
      "image/png": "[encoded data removed]",
      "text/plain": [
       "<Figure size 1000x600 with 1 Axes>"
      ]
     },
     "metadata": {},
     "output_type": "display_data"
    }
   ],
   "source": [
    "# Filter data for \"Normal\" BMI category\n",
    "normal_bmi_sleep_data = df[df['BMI Category'] == 'Normal']\n",
    "\n",
    "# Plot the sleep duration for the \"Normal\" BMI category\n",
    "plt.figure(figsize=(10, 6))\n",
    "plt.hist(normal_bmi_sleep_data['Sleep Duration'], bins=10, color='lightgreen', edgecolor='black')\n",
    "plt.title('Sleep Duration for Normal BMI Category')\n",
    "plt.xlabel('Sleep Duration (hours)')\n",
    "plt.ylabel('Frequency')\n",
    "plt.grid(axis='y', linestyle='--', alpha=0.7)\n",
    "plt.show()"
   ]
  }
 ],
 "metadata": {
  "kernelspec": {
   "display_name": "Python 3",
   "language": "python",
   "name": "python3"
  },
  "language_info": {
   "codemirror_mode": {
    "name": "ipython",
    "version": 3
   },
   "file_extension": ".py",
   "mimetype": "text/x-python",
   "name": "python",
   "nbconvert_exporter": "python",
   "pygments_lexer": "ipython3",
   "version": "3.13.2"
  }
 },
 "nbformat": 4,
 "nbformat_minor": 5
}
